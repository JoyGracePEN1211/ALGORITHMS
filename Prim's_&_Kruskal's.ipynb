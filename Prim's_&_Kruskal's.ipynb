{
  "nbformat": 4,
  "nbformat_minor": 0,
  "metadata": {
    "colab": {
      "provenance": [],
      "authorship_tag": "ABX9TyNWkwdxU3jP/jFVamJrj9uj",
      "include_colab_link": true
    },
    "kernelspec": {
      "name": "python3",
      "display_name": "Python 3"
    },
    "language_info": {
      "name": "python"
    }
  },
  "cells": [
    {
      "cell_type": "markdown",
      "metadata": {
        "id": "view-in-github",
        "colab_type": "text"
      },
      "source": [
        "<a href=\"https://colab.research.google.com/github/JoyGracePEN1211/ALGORITHMS/blob/main/Prim's_%26_Kruskal's.ipynb\" target=\"_parent\"><img src=\"https://colab.research.google.com/assets/colab-badge.svg\" alt=\"Open In Colab\"/></a>"
      ]
    },
    {
      "cell_type": "markdown",
      "source": [
        "Prim's Algorithm"
      ],
      "metadata": {
        "id": "tRMofRA5eCI_"
      }
    },
    {
      "cell_type": "code",
      "execution_count": null,
      "metadata": {
        "colab": {
          "base_uri": "https://localhost:8080/"
        },
        "id": "QZG3xfqLZ_oH",
        "outputId": "6bb66e5e-1c1a-499c-ec9e-49df99448ceb"
      },
      "outputs": [
        {
          "output_type": "stream",
          "name": "stdout",
          "text": [
            "Edge \t Weight\n",
            "2 - 1 \t 16\n",
            "3 - 2 \t 12\n",
            "4 - 3 \t 22\n",
            "5 - 4 \t 25\n",
            "0 - 5 \t 10\n",
            "1 - 6 \t 14\n"
          ]
        }
      ],
      "source": [
        "import sys\n",
        "class graph:\n",
        "  def __init__(self,vertices):\n",
        "    self.V=vertices\n",
        "    self.graph=[[0 for column in range(vertices)]for row in range(vertices)]\n",
        "\n",
        "  def min_key(self, key, mstset):\n",
        "    min_val = sys.maxsize\n",
        "    min_index = -1\n",
        "    for v in range(self.V):\n",
        "      if key[v] < min_val and mstset[v] == False:\n",
        "        min_val = key[v]\n",
        "        min_index = v\n",
        "    return min_index\n",
        "\n",
        "  def prim_mst(self):\n",
        "    key = [sys.maxsize] * self.V\n",
        "    parent = [None] * self.V\n",
        "    key[0] = 0\n",
        "    mstset = [False] * self.V\n",
        "    parent[0] = -1\n",
        "\n",
        "    for _ in range(self.V):\n",
        "      u = self.min_key(key, mstset)\n",
        "      mstset[u] = True\n",
        "      for v in range(self.V):\n",
        "        if self.graph[u][v] > 0 and mstset[v] == False and key[v] > self.graph[u][v]:\n",
        "          key[v] = self.graph[u][v]\n",
        "          parent[v] = u\n",
        "    self.print_mst(parent)\n",
        "\n",
        "  def print_mst(self, parent):\n",
        "   print(\"Edge \\t Weight\")\n",
        "   for i in range(1, self.V):\n",
        "    print(f\"{parent[i]} - {i} \\t {self.graph[i][parent[i]]}\")\n",
        "\n",
        "g = graph(7)\n",
        "g.graph = [\n",
        "    [0,28,0,0,0,10,0],\n",
        "    [28,0,16,0,0,0,14],\n",
        "    [0,16,0,12,0,0,0],\n",
        "    [0,0,12,0,22,0,18],\n",
        "    [0,0,0,22,0,25,24],\n",
        "    [10,0,0,0,25,0,0],\n",
        "    [0,14,0,18,24,0,0],\n",
        "]\n",
        "g.prim_mst()\n",
        "\n",
        "\n",
        "\n",
        "\n",
        "\n"
      ]
    },
    {
      "cell_type": "markdown",
      "source": [
        "Kruskal's Algorithm"
      ],
      "metadata": {
        "id": "ZGoRP4JHeJ1L"
      }
    },
    {
      "cell_type": "code",
      "source": [
        "class Graph:\n",
        "  def __init__(self, vertices):\n",
        "    self.V = vertices\n",
        "    self.graph = []\n",
        "  def add_edge(self, u, v, w):\n",
        "    self.graph.append([u, v, w])\n",
        "  def find(self, parent, i):\n",
        "    if parent[i] == i:\n",
        "      return i\n",
        "    return self.find(parent, parent[i])\n",
        "  def apply_union(self, parent, rank, x, y):\n",
        "    xroot = self.find(parent, x)\n",
        "    yroot = self.find(parent, y)\n",
        "    if rank[xroot] < rank[yroot]:\n",
        "      parent[xroot] = yroot\n",
        "    elif rank[xroot] > rank[yroot]:\n",
        "      parent[yroot] = xroot\n",
        "    else:\n",
        "      parent[yroot] = xroot\n",
        "      rank[xroot] += 1\n",
        "  def Kruskal_mst(self):\n",
        "    result = []\n",
        "    i, e = 0, 0\n",
        "    self.graph = sorted(self.graph, key=lambda item: item[2])\n",
        "    parent = []\n",
        "    rank = []\n",
        "\n",
        "    for node in range(self.V):\n",
        "      parent.append(node)\n",
        "      rank.append(0)\n",
        "\n",
        "    while e < self.V - 1:\n",
        "      u, v, w = self.graph[i]\n",
        "      i = i + 1\n",
        "      x = self.find(parent, u)\n",
        "      y = self.find(parent, v)\n",
        "      if x != y:\n",
        "        e = e + 1\n",
        "        result.append([u, v, w])\n",
        "        self.apply_union(parent, rank, x, y)\n",
        "\n",
        "      for u, v, weight in result:\n",
        "        print(f\"{u} - {v}: {weight}\")\n",
        "\n",
        "g = Graph(7)\n",
        "g.add_edge(0, 1, 28)\n",
        "g.add_edge(0, 2, 16)\n",
        "g.add_edge(1, 6, 14)\n",
        "g.add_edge(2, 3, 12)\n",
        "g.add_edge(3, 4, 22)\n",
        "g.add_edge(3, 6, 18)\n",
        "g.add_edge(4, 5, 25)\n",
        "g.add_edge(4, 6, 24)\n",
        "g.add_edge(5, 0, 10)\n",
        "g.Kruskal_mst()"
      ],
      "metadata": {
        "colab": {
          "base_uri": "https://localhost:8080/"
        },
        "id": "aBLnGEpaeK5j",
        "outputId": "0856f9dd-736b-440f-f60e-f8c28644ace9"
      },
      "execution_count": null,
      "outputs": [
        {
          "output_type": "stream",
          "name": "stdout",
          "text": [
            "5 - 0: 10\n",
            "5 - 0: 10\n",
            "2 - 3: 12\n",
            "5 - 0: 10\n",
            "2 - 3: 12\n",
            "1 - 6: 14\n",
            "5 - 0: 10\n",
            "2 - 3: 12\n",
            "1 - 6: 14\n",
            "0 - 2: 16\n",
            "5 - 0: 10\n",
            "2 - 3: 12\n",
            "1 - 6: 14\n",
            "0 - 2: 16\n",
            "3 - 6: 18\n",
            "5 - 0: 10\n",
            "2 - 3: 12\n",
            "1 - 6: 14\n",
            "0 - 2: 16\n",
            "3 - 6: 18\n",
            "3 - 4: 22\n"
          ]
        }
      ]
    }
  ]
}