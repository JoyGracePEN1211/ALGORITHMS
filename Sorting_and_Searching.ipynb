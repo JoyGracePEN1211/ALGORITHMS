{
  "nbformat": 4,
  "nbformat_minor": 0,
  "metadata": {
    "colab": {
      "provenance": []
    },
    "kernelspec": {
      "name": "python3",
      "display_name": "Python 3"
    },
    "language_info": {
      "name": "python"
    }
  },
  "cells": [
    {
      "cell_type": "markdown",
      "source": [
        "# **SORTING TECHNIQUES**"
      ],
      "metadata": {
        "id": "ZTwx6ymQjpLX"
      }
    },
    {
      "cell_type": "markdown",
      "source": [
        "**SELECTION SORT**"
      ],
      "metadata": {
        "id": "Crjo_iHajvBb"
      }
    },
    {
      "cell_type": "code",
      "execution_count": null,
      "metadata": {
        "id": "xZPRq8EZhSED",
        "colab": {
          "base_uri": "https://localhost:8080/"
        },
        "outputId": "17b78cc8-1d85-4bbe-c02d-f6d4124fa7f6"
      },
      "outputs": [
        {
          "output_type": "stream",
          "name": "stdout",
          "text": [
            "[11, 12, 22, 25, 34, 64, 90]\n"
          ]
        }
      ],
      "source": [
        "def selec_srt(arr):\n",
        "  n = len(arr)\n",
        "  for i in range(n):\n",
        "    min = i\n",
        "    for j in range(i+1, n):\n",
        "      if arr[j] < arr[min]:\n",
        "        min = j\n",
        "    arr[i], arr[min] = arr[min], arr[i]\n",
        "  return arr\n",
        "\n",
        "arr = [64, 34, 25, 12, 22, 11, 90]\n",
        "print(selec_srt(arr))"
      ]
    },
    {
      "cell_type": "markdown",
      "source": [
        "**INSERTION SORT**"
      ],
      "metadata": {
        "id": "m3Txa-Kaj9YC"
      }
    },
    {
      "cell_type": "code",
      "source": [
        "def inser_srt(arr):\n",
        "  for i in range(1, len(arr)):\n",
        "    key = arr[i]\n",
        "    j = i-1\n",
        "    while j >= 0 and arr[j]>key:\n",
        "      arr[j+1] = arr[j]\n",
        "      j -= 1\n",
        "    arr[j+1] = key\n",
        "  return arr\n",
        "\n",
        "arr = [64, 34, 25, 12, 22, 11, 90]\n",
        "print(inser_srt(arr))"
      ],
      "metadata": {
        "colab": {
          "base_uri": "https://localhost:8080/"
        },
        "id": "KmiW5vRwjtUt",
        "outputId": "a480655b-f35d-4857-e81d-ded3dea25fd3"
      },
      "execution_count": null,
      "outputs": [
        {
          "output_type": "stream",
          "name": "stdout",
          "text": [
            "[11, 12, 22, 25, 34, 64, 90]\n"
          ]
        }
      ]
    },
    {
      "cell_type": "markdown",
      "source": [
        "**BUBBLE SORT**"
      ],
      "metadata": {
        "id": "HYS2NpQykQC9"
      }
    },
    {
      "cell_type": "code",
      "source": [
        "def bub_sort(arr):\n",
        "  n = len(arr)\n",
        "  for i in range(n):\n",
        "    for j in range(0, n-i-1):\n",
        "      if arr[j] >arr[j+1]:\n",
        "        arr[j],arr[j+1] = arr[j+1], arr[j]\n",
        "  return arr\n",
        "\n",
        "arr = [69,34,25,12,22,11,90]\n",
        "print(bub_sort(arr))\n"
      ],
      "metadata": {
        "colab": {
          "base_uri": "https://localhost:8080/"
        },
        "id": "acqs-l3hkSeD",
        "outputId": "1bbc91db-782c-4294-cbea-102eeb8ad928"
      },
      "execution_count": null,
      "outputs": [
        {
          "output_type": "stream",
          "name": "stdout",
          "text": [
            "[11, 12, 22, 25, 34, 69, 90]\n"
          ]
        }
      ]
    },
    {
      "cell_type": "markdown",
      "source": [
        "**QUICK SORT**"
      ],
      "metadata": {
        "id": "8LP_ZQZEkWwl"
      }
    },
    {
      "cell_type": "code",
      "source": [
        "def quick_srt(arr, low, high):\n",
        "  if low < high:\n",
        "    p = partition(arr, low, high)\n",
        "    quick_srt(arr, low, p-1)\n",
        "    quick_srt(arr, p+1, high)\n",
        "  return arr\n",
        "\n",
        "def partition(arr,low,high):\n",
        "  p = arr[low]\n",
        "  i = low\n",
        "  j= high\n",
        "  while True:\n",
        "    while i <= j and arr[i] <= p:\n",
        "      i += 1\n",
        "    while i <= j and arr[j] >= p:\n",
        "      j -= 1\n",
        "    if i<=j:\n",
        "      arr[i], arr[j] = arr[j], arr[i]\n",
        "    else:\n",
        "      break\n",
        "  arr[low], arr[j] = arr[j], arr[low]\n",
        "  return j\n",
        "\n",
        "\n",
        "arr = [69,34,25,12,22,11,90]\n",
        "print(quick_srt(arr, 0, len(arr)-1))"
      ],
      "metadata": {
        "colab": {
          "base_uri": "https://localhost:8080/"
        },
        "id": "4VKIofPkkcUL",
        "outputId": "69c765b2-3b74-4b73-9c0d-fa006966b6d6"
      },
      "execution_count": null,
      "outputs": [
        {
          "output_type": "stream",
          "name": "stdout",
          "text": [
            "[11, 12, 22, 25, 34, 69, 90]\n"
          ]
        }
      ]
    },
    {
      "cell_type": "markdown",
      "source": [
        "**MERGE SORT**"
      ],
      "metadata": {
        "id": "JJyOjds2ktbs"
      }
    },
    {
      "cell_type": "code",
      "source": [
        "def merge(left, right):\n",
        "  new = []\n",
        "  i = j = 0\n",
        "  while i<len(left) and j<len(right):\n",
        "    if left[i]<right[j]:\n",
        "      new.append(left[i])\n",
        "      i+=1\n",
        "    else:\n",
        "      new.append(right[j])\n",
        "      j+=1\n",
        "\n",
        "  new.extend(left[i:])\n",
        "  new.extend(right[j:])\n",
        "  return new\n",
        "\n",
        "def merge_srt(arr):\n",
        "  if len(arr)<=1:\n",
        "    return arr\n",
        "  mid = len(arr)//2\n",
        "  lh = arr[:mid]\n",
        "  rh = arr[mid:]\n",
        "  lh = merge_srt(lh)\n",
        "  rh = merge_srt(rh)\n",
        "  return merge(lh,rh)\n",
        "\n",
        "arr = [60,20,40,10,90,30,80,50]\n",
        "print(merge_srt(arr))"
      ],
      "metadata": {
        "colab": {
          "base_uri": "https://localhost:8080/"
        },
        "id": "sKIQDOkKkxoz",
        "outputId": "96761cad-388a-4077-fb41-a184983f0c7a"
      },
      "execution_count": null,
      "outputs": [
        {
          "output_type": "stream",
          "name": "stdout",
          "text": [
            "[10, 20, 30, 40, 50, 60, 80, 90]\n"
          ]
        }
      ]
    },
    {
      "cell_type": "markdown",
      "source": [
        "**HEAP SORT**"
      ],
      "metadata": {
        "id": "-slvTJ1nojlz"
      }
    },
    {
      "cell_type": "code",
      "source": [
        "def heapify(arr, n, i):\n",
        "  largest = i\n",
        "  l = 2*i+1\n",
        "  r = 2*i+2\n",
        "  if l<n and arr[l]>arr[largest]:\n",
        "    largest = l\n",
        "  if r<n and arr[r]>arr[largest]:\n",
        "    largest = r\n",
        "  if largest != i:\n",
        "    arr[i], arr[largest] = arr[largest], arr[i]\n",
        "    heapify(arr, n, largest)\n",
        "\n",
        "def heap_srt(arr):\n",
        "  n = len(arr)\n",
        "  for i in range(n//2-1, -1, -1):\n",
        "    heapify(arr, n, i)\n",
        "\n",
        "  for i in range(n-1, 0, -1):\n",
        "    arr[i], arr[0] = arr[0], arr[i]\n",
        "    heapify(arr, i, 0)\n",
        "\n",
        "arr = [60,20,40,10,90,30,80,50]\n",
        "heap_srt(arr)\n",
        "print(arr)"
      ],
      "metadata": {
        "colab": {
          "base_uri": "https://localhost:8080/"
        },
        "id": "TOtakx4FolJ7",
        "outputId": "2722c74d-3ad4-474a-86fa-3653978b7ca3"
      },
      "execution_count": null,
      "outputs": [
        {
          "output_type": "stream",
          "name": "stdout",
          "text": [
            "[10, 20, 30, 40, 50, 60, 80, 90]\n"
          ]
        }
      ]
    },
    {
      "cell_type": "markdown",
      "source": [
        "**TOPOLOGICAL SORT**"
      ],
      "metadata": {
        "id": "3Q7-NN0Drbl7"
      }
    },
    {
      "cell_type": "code",
      "source": [
        "def topological_sort(V,adj,visited,stack):\n",
        "  visited[V] = True\n",
        "  for i in adj[V]:\n",
        "    if not visited[i]:\n",
        "      topological_sort(i,adj,visited,stack)\n",
        "  stack.append(V)\n",
        "  return stack\n",
        "\n",
        "def topo_sort(V,adj):\n",
        "  visited = [False]*V\n",
        "  stack = []\n",
        "  for i in range(V):\n",
        "    if not visited[i]:\n",
        "      topological_sort(i,adj,visited,stack)\n",
        "  print(\"Toplogical sorting of the graph is: \")\n",
        "  while stack:\n",
        "    print(stack.pop(), end=\" \")\n",
        "\n",
        "V = 6\n",
        "edges = [[5,2],[5,0],[4,0],[4,1],[2,3],[3,1]]\n",
        "adj = [[] for i in range(V)]\n",
        "for i in edges:\n",
        "  adj[i[0]].append(i[1])\n",
        "topo_sort(V,adj)\n"
      ],
      "metadata": {
        "colab": {
          "base_uri": "https://localhost:8080/"
        },
        "id": "jBkYIMO9rdmr",
        "outputId": "57818f4d-22f1-4b85-a3c4-6c5742367be8"
      },
      "execution_count": null,
      "outputs": [
        {
          "output_type": "stream",
          "name": "stdout",
          "text": [
            "Toplogical sorting of the graph is: \n",
            "5 4 2 3 1 0 "
          ]
        }
      ]
    },
    {
      "cell_type": "markdown",
      "source": [
        "**BFS**"
      ],
      "metadata": {
        "id": "iaBA167vtCja"
      }
    },
    {
      "cell_type": "code",
      "source": [
        "def BFS(graph,V,src):\n",
        "  visited = [False] * V\n",
        "  queue = []\n",
        "  queue.append(src)\n",
        "  visited[src] = True\n",
        "  path =[]\n",
        "\n",
        "  while queue :\n",
        "    u = queue.pop(0)\n",
        "    # print(u , end =\" \")\n",
        "    path.append(u)\n",
        "    for v in graph.get(u,[]):\n",
        "      if visited[v] == False:\n",
        "        queue.append(v)\n",
        "        visited[v] = True\n",
        "  return path\n",
        "\n",
        "graph = {0:[1,2], 1:[3], 2:[4,5], 3:[], 4:[], 5:[] }\n",
        "V = 6\n",
        "src = 0\n",
        "print(BFS(graph,V,src))"
      ],
      "metadata": {
        "colab": {
          "base_uri": "https://localhost:8080/"
        },
        "id": "pM4qYrV5tCDj",
        "outputId": "f25da629-b9eb-4046-dc03-0175f7e0f413"
      },
      "execution_count": null,
      "outputs": [
        {
          "output_type": "stream",
          "name": "stdout",
          "text": [
            "[0, 1, 2, 3, 4, 5]\n"
          ]
        }
      ]
    },
    {
      "cell_type": "markdown",
      "source": [
        "**DFS**"
      ],
      "metadata": {
        "id": "pinUQqrewCeg"
      }
    },
    {
      "cell_type": "code",
      "source": [
        "def DFS(graph,V,src):\n",
        "  visited = [False] * V\n",
        "  stack = []\n",
        "  stack.append(src)\n",
        "  path = []\n",
        "\n",
        "  while stack:\n",
        "    u = stack.pop()\n",
        "    # print(u, end=\" \")\n",
        "    path.append(u)\n",
        "    if visited[u] == False:\n",
        "      visited[u] = True\n",
        "    for v in graph.get(u,[]):\n",
        "      if visited[v] == False:\n",
        "        stack.append(v)\n",
        "  return path\n",
        "\n",
        "graph = {0:[1,2], 1:[3], 2:[4,5], 3:[], 4:[], 5:[] }\n",
        "V = 6\n",
        "src = 0\n",
        "print(DFS(graph,V,src))"
      ],
      "metadata": {
        "colab": {
          "base_uri": "https://localhost:8080/"
        },
        "id": "AzwOXfjPwESg",
        "outputId": "ec490622-edf1-45c0-e0a9-fce17eeccc7c"
      },
      "execution_count": null,
      "outputs": [
        {
          "output_type": "stream",
          "name": "stdout",
          "text": [
            "[0, 2, 5, 4, 1, 3]\n"
          ]
        }
      ]
    }
  ]
}