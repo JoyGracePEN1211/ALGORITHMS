{
  "nbformat": 4,
  "nbformat_minor": 0,
  "metadata": {
    "colab": {
      "provenance": [],
      "authorship_tag": "ABX9TyOIomwrBs/v3/P5s5KZQU+Q",
      "include_colab_link": true
    },
    "kernelspec": {
      "name": "python3",
      "display_name": "Python 3"
    },
    "language_info": {
      "name": "python"
    }
  },
  "cells": [
    {
      "cell_type": "markdown",
      "metadata": {
        "id": "view-in-github",
        "colab_type": "text"
      },
      "source": [
        "<a href=\"https://colab.research.google.com/github/JoyGracePEN1211/ALGORITHMS/blob/main/Linear_Programming.ipynb\" target=\"_parent\"><img src=\"https://colab.research.google.com/assets/colab-badge.svg\" alt=\"Open In Colab\"/></a>"
      ]
    },
    {
      "cell_type": "code",
      "execution_count": 1,
      "metadata": {
        "colab": {
          "base_uri": "https://localhost:8080/"
        },
        "id": "QzrPPYsw9dh9",
        "outputId": "bfbcbd82-5d5e-44e9-c25e-09308250cae6"
      },
      "outputs": [
        {
          "output_type": "stream",
          "name": "stdout",
          "text": [
            "optimal solution found:\n",
            "x (cups of drink X): 3.00\n",
            "y (cups of drink Y): 2.00\n",
            "Minimun cost: $0.66\n"
          ]
        }
      ],
      "source": [
        "from scipy.optimize import linprog\n",
        "\n",
        "#coefficients of objective function\n",
        "c=[0.12,0.15]\n",
        "\n",
        "#coefficients for the inequality constraints\n",
        "A=[[-60,-60],\n",
        "   [-12,-6],\n",
        "   [-10,-30]]\n",
        "\n",
        "#right_hand side of the inequalities\n",
        "b=[-300,-36,-90]\n",
        "\n",
        "#bounds for the variables(x,y>=0)\n",
        "x_bounds=(0,None)\n",
        "y_bounds=(0,None)\n",
        "\n",
        "#solve the linear programming problem\n",
        "result=linprog(c,A_ub=A,b_ub=b,bounds=[x_bounds,y_bounds],method=\"highs\")\n",
        "\n",
        "#display the results\n",
        "if result.success:\n",
        "  print(\"optimal solution found:\")\n",
        "  print(f\"x (cups of drink X): {result.x[0]:.2f}\")\n",
        "  print(f\"y (cups of drink Y): {result.x[1]:.2f}\")\n",
        "  print(f\"Minimun cost: ${result.fun:.2f}\")\n",
        "else:\n",
        "  print(\"No solution found. Reason:\",result.message)\n"
      ]
    }
  ]
}